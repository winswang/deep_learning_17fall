{
 "cells": [
  {
   "cell_type": "markdown",
   "metadata": {},
   "source": [
    "# Deep learning from scratch: homework 2"
   ]
  },
  {
   "cell_type": "markdown",
   "metadata": {},
   "source": [
    "### General instructions"
   ]
  },
  {
   "cell_type": "markdown",
   "metadata": {},
   "source": [
    "Complete the exercises listed below in this Jupyter notebook - leaving all of your code in Python cells in the notebook itself.  Feel free to add any necessary cells."
   ]
  },
  {
   "cell_type": "markdown",
   "metadata": {},
   "source": [
    "#### <span style=\"color:#a50e3e;\">Example 1. </span>   Perform two-class classification on a breast cancer dataset"
   ]
  },
  {
   "cell_type": "markdown",
   "metadata": {},
   "source": [
    "Use the softmax cost function to classify healthy from cancerous tissue using the dataset located in breast_cancer_dataset.csv (included in this homework folder).  You can examine the description of this dataset [here](https://archive.ics.uci.edu/ml/datasets/Breast+Cancer+Wisconsin+(Diagnostic)). \n",
    "\n",
    "There are $N = 8$ input dimensions to the input of this dataset (these are the first $N = 8$ columns of the breast_cancer_dataset.csv, the last column are the associated labels).  Fit using gradient descent using a maximum of 5,000 iterations.  You should be able to reach a point on the surface where you misclassify less than 30 examples.\n",
    "\n",
    "Create a plot withi two panels that shows the number of misclassifications at each gradient descent step (in the left panel), and one that compares the cost function at each gradient descent step (in the right panel)."
   ]
  },
  {
   "cell_type": "markdown",
   "metadata": {},
   "source": [
    "**Note:** Python is a great prototyping language but [it is slow](http://jakevdp.github.io/blog/2014/05/09/why-python-is-slow/), particular when evaluating explicit for loops.  If you are having speed issues try re-writing the softmax cost function using as few explicit for-loops as possible (you can indeed write the entire summation in a single line of Python code, for-loop free)."
   ]
  },
  {
   "cell_type": "code",
   "execution_count": 1,
   "metadata": {
    "collapsed": true
   },
   "outputs": [],
   "source": [
    "# load in datasets\n",
    "import autograd.numpy as np\n",
    "from autograd import grad    \n",
    "import matplotlib.pyplot as plt\n",
    "from matplotlib import gridspec"
   ]
  },
  {
   "cell_type": "markdown",
   "metadata": {},
   "source": [
    "Load in the breast cancer dataset."
   ]
  },
  {
   "cell_type": "code",
   "execution_count": 2,
   "metadata": {
    "collapsed": true
   },
   "outputs": [],
   "source": [
    "# load in dataset\n",
    "data = np.loadtxt('breast_cancer_data.csv',delimiter = ',')\n",
    "x = data[:,:-1]\n",
    "y = data[:,-1]\n",
    "y.shape = (len(y),1)"
   ]
  },
  {
   "cell_type": "markdown",
   "metadata": {},
   "source": [
    "The logistic regression (a.k.a. the 2-class softmax cost)."
   ]
  },
  {
   "cell_type": "code",
   "execution_count": 3,
   "metadata": {
    "collapsed": true
   },
   "outputs": [],
   "source": [
    "# the softmax cost function - for N > 2\n",
    "def softmax(w):\n",
    "    cost = 0\n",
    "    for p in range(0,len(y)):\n",
    "        x_p = x[p,:]\n",
    "        y_p = y[p]\n",
    "        a_p = w[0] + sum([a*b for a,b in zip(w[1:],x_p)])\n",
    "        cost += np.log(1 + np.exp(-y_p*a_p)) \n",
    "    return cost "
   ]
  },
  {
   "cell_type": "code",
   "execution_count": 2,
   "metadata": {
    "collapsed": true
   },
   "outputs": [],
   "source": [
    "# the softmax cost function written more compactly\n",
    "def softmax(w):\n",
    "    cost  = sum(np.log(1 + np.exp((-y)*(w[0] + np.dot(x,w[1:])))))\n",
    "    return cost"
   ]
  },
  {
   "cell_type": "markdown",
   "metadata": {},
   "source": [
    "The 2-class perceptron cost."
   ]
  },
  {
   "cell_type": "code",
   "execution_count": 95,
   "metadata": {
    "collapsed": true
   },
   "outputs": [],
   "source": [
    "# the perceptron cost function\n",
    "def perceptron(w):\n",
    "    cost = 0\n",
    "    for p in range(0,len(y)):\n",
    "        x_p = x[p]\n",
    "        y_p = y[p]\n",
    "        a_p = w[0] + sum([a*b for a,b in zip(w[1:],x_p)])\n",
    "        cost += np.maximum(0,-y_p*a_p)\n",
    "    return cost"
   ]
  },
  {
   "cell_type": "code",
   "execution_count": 3,
   "metadata": {
    "collapsed": true
   },
   "outputs": [],
   "source": [
    "# the perceptron cost function written more compactly\n",
    "def perceptron(w):\n",
    "    cost  = sum(np.maximum(0,(-y)*(w[0] + np.dot(x,w[1:]))))\n",
    "    return cost"
   ]
  },
  {
   "cell_type": "markdown",
   "metadata": {},
   "source": [
    "Counting cost function."
   ]
  },
  {
   "cell_type": "code",
   "execution_count": 22,
   "metadata": {
    "collapsed": true
   },
   "outputs": [],
   "source": [
    "# the counting cost function\n",
    "def counting_cost(w):\n",
    "    cost = 0\n",
    "    for p in range(0,len(y)):\n",
    "        x_p = x[p]\n",
    "        y_p = y[p]\n",
    "        a_p = w[0] + sum([a*b for a,b in zip(w[1:],x_p)])\n",
    "        cost += (np.sign(a_p) - y_p)**2\n",
    "    return 0.25*cost"
   ]
  },
  {
   "cell_type": "code",
   "execution_count": 10,
   "metadata": {
    "collapsed": true
   },
   "outputs": [],
   "source": [
    "# the perceptron cost function written more compactly\n",
    "def counting_cost(w):\n",
    "    cost  = 0.25*sum((np.sign(w[0] + np.dot(x,w[1:])) - y)**2)\n",
    "    return cost"
   ]
  },
  {
   "cell_type": "markdown",
   "metadata": {},
   "source": [
    "A gradient descent function."
   ]
  },
  {
   "cell_type": "code",
   "execution_count": 8,
   "metadata": {
    "collapsed": true
   },
   "outputs": [],
   "source": [
    "# a gradient descent function\n",
    "def gradient_descent(g,alpha,max_its,w):\n",
    "    # compute the gradient of our input function - note this is a function too!\n",
    "    gradient = grad(g)\n",
    "    \n",
    "    # run the gradient descent loop\n",
    "    weight_history = [w]\n",
    "    for k in range(max_its):\n",
    "        # evaluate the gradient\n",
    "        grad_eval = gradient(w)\n",
    "\n",
    "        # take gradient descent step\n",
    "        w = w - alpha*grad_eval\n",
    "        \n",
    "        # record current weights\n",
    "        weight_history.append(w)\n",
    "        \n",
    "        # print update\n",
    "        if np.mod(k + 1,50) == 0:\n",
    "            print ('done with iteration ' + str(k+1))\n",
    "            \n",
    "    return weight_history"
   ]
  },
  {
   "cell_type": "markdown",
   "metadata": {},
   "source": [
    "Run gradient descent with softmax cost."
   ]
  },
  {
   "cell_type": "code",
   "execution_count": 51,
   "metadata": {
    "collapsed": true
   },
   "outputs": [],
   "source": [
    "# parameters for grad descent\n",
    "alpha = 10**(-3)/len(y)\n",
    "w_init = 0.1*np.random.randn(np.shape(x)[1]+1,1)\n",
    "its = 3000"
   ]
  },
  {
   "cell_type": "code",
   "execution_count": 52,
   "metadata": {},
   "outputs": [
    {
     "name": "stdout",
     "output_type": "stream",
     "text": [
      "done with iteration 50\n",
      "done with iteration 100\n",
      "done with iteration 150\n",
      "done with iteration 200\n",
      "done with iteration 250\n",
      "done with iteration 300\n",
      "done with iteration 350\n",
      "done with iteration 400\n",
      "done with iteration 450\n",
      "done with iteration 500\n",
      "done with iteration 550\n",
      "done with iteration 600\n",
      "done with iteration 650\n",
      "done with iteration 700\n",
      "done with iteration 750\n",
      "done with iteration 800\n",
      "done with iteration 850\n",
      "done with iteration 900\n",
      "done with iteration 950\n",
      "done with iteration 1000\n",
      "done with iteration 1050\n",
      "done with iteration 1100\n",
      "done with iteration 1150\n",
      "done with iteration 1200\n",
      "done with iteration 1250\n",
      "done with iteration 1300\n",
      "done with iteration 1350\n",
      "done with iteration 1400\n",
      "done with iteration 1450\n",
      "done with iteration 1500\n",
      "done with iteration 1550\n",
      "done with iteration 1600\n",
      "done with iteration 1650\n",
      "done with iteration 1700\n",
      "done with iteration 1750\n",
      "done with iteration 1800\n",
      "done with iteration 1850\n",
      "done with iteration 1900\n",
      "done with iteration 1950\n",
      "done with iteration 2000\n",
      "done with iteration 2050\n",
      "done with iteration 2100\n",
      "done with iteration 2150\n",
      "done with iteration 2200\n",
      "done with iteration 2250\n",
      "done with iteration 2300\n",
      "done with iteration 2350\n",
      "done with iteration 2400\n",
      "done with iteration 2450\n",
      "done with iteration 2500\n",
      "done with iteration 2550\n",
      "done with iteration 2600\n",
      "done with iteration 2650\n",
      "done with iteration 2700\n",
      "done with iteration 2750\n",
      "done with iteration 2800\n",
      "done with iteration 2850\n",
      "done with iteration 2900\n",
      "done with iteration 2950\n",
      "done with iteration 3000\n"
     ]
    }
   ],
   "source": [
    "# run gradient descent for softmax cost function\n",
    "whist_soft = gradient_descent(g = softmax,alpha = alpha,max_its = its,w = w_init)"
   ]
  },
  {
   "cell_type": "markdown",
   "metadata": {},
   "source": [
    "Run gradient descent with perceptron cost."
   ]
  },
  {
   "cell_type": "code",
   "execution_count": 53,
   "metadata": {},
   "outputs": [
    {
     "name": "stdout",
     "output_type": "stream",
     "text": [
      "done with iteration 50\n",
      "done with iteration 100\n",
      "done with iteration 150\n",
      "done with iteration 200\n",
      "done with iteration 250\n",
      "done with iteration 300\n",
      "done with iteration 350\n",
      "done with iteration 400\n",
      "done with iteration 450\n",
      "done with iteration 500\n",
      "done with iteration 550\n",
      "done with iteration 600\n",
      "done with iteration 650\n",
      "done with iteration 700\n",
      "done with iteration 750\n",
      "done with iteration 800\n",
      "done with iteration 850\n",
      "done with iteration 900\n",
      "done with iteration 950\n",
      "done with iteration 1000\n",
      "done with iteration 1050\n",
      "done with iteration 1100\n",
      "done with iteration 1150\n",
      "done with iteration 1200\n",
      "done with iteration 1250\n",
      "done with iteration 1300\n",
      "done with iteration 1350\n",
      "done with iteration 1400\n",
      "done with iteration 1450\n",
      "done with iteration 1500\n",
      "done with iteration 1550\n",
      "done with iteration 1600\n",
      "done with iteration 1650\n",
      "done with iteration 1700\n",
      "done with iteration 1750\n",
      "done with iteration 1800\n",
      "done with iteration 1850\n",
      "done with iteration 1900\n",
      "done with iteration 1950\n",
      "done with iteration 2000\n",
      "done with iteration 2050\n",
      "done with iteration 2100\n",
      "done with iteration 2150\n",
      "done with iteration 2200\n",
      "done with iteration 2250\n",
      "done with iteration 2300\n",
      "done with iteration 2350\n",
      "done with iteration 2400\n",
      "done with iteration 2450\n",
      "done with iteration 2500\n",
      "done with iteration 2550\n",
      "done with iteration 2600\n",
      "done with iteration 2650\n",
      "done with iteration 2700\n",
      "done with iteration 2750\n",
      "done with iteration 2800\n",
      "done with iteration 2850\n",
      "done with iteration 2900\n",
      "done with iteration 2950\n",
      "done with iteration 3000\n"
     ]
    }
   ],
   "source": [
    "# run gradient descent for softmax cost function\n",
    "whist_perc = gradient_descent(g = perceptron,alpha = alpha,max_its = its,w = w_init)"
   ]
  },
  {
   "cell_type": "markdown",
   "metadata": {},
   "source": [
    "A plotting function for comparing cost and counting cost."
   ]
  },
  {
   "cell_type": "code",
   "execution_count": 16,
   "metadata": {
    "collapsed": true
   },
   "outputs": [],
   "source": [
    "# compare cost to counting\n",
    "def compare_costs(whist_soft,whist_perc):\n",
    "    ##### setup figure to plot #####\n",
    "    # initialize figure\n",
    "    fig = plt.figure(figsize = (9,4))\n",
    "\n",
    "    # create subplot with 3 panels, plot input function in center plot\n",
    "    gs = gridspec.GridSpec(1, 2) \n",
    "    ax1 = plt.subplot(gs[0]); \n",
    "    ax2 = plt.subplot(gs[1]);\n",
    "        \n",
    "    #### compute each cost ###\n",
    "    soft_cost_vals = []         # cost evaluations\n",
    "    soft_count_vals = []        # counting evaluations\n",
    "   \n",
    "    perc_cost_vals = []         # cost evaluations\n",
    "    perc_count_vals = []        # counting evaluations\n",
    "    \n",
    "    # run through weights, evaluate classification and counting costs, record\n",
    "    for i in range(len(whist_soft)):\n",
    "        ### record softmax cost evaluation\n",
    "        weight = whist_soft[i]\n",
    "        cost = softmax(weight)\n",
    "        soft_cost_vals.append(cost)\n",
    "        \n",
    "        # record count evaluation\n",
    "        count = counting_cost(weight)\n",
    "        soft_count_vals.append(count)\n",
    "        \n",
    "        ### record perceptron cost evaluation\n",
    "        weight = whist_perc[i]\n",
    "        cost = perceptron(weight)\n",
    "        perc_cost_vals.append(cost)\n",
    "        \n",
    "        # record count evaluation\n",
    "        count = counting_cost(weight)\n",
    "        perc_count_vals.append(count)\n",
    "        \n",
    "    # plot both classification and counting cost histories\n",
    "    ax1.plot(soft_count_vals)\n",
    "    ax1.plot(perc_count_vals)\n",
    "    \n",
    "    ax2.plot(soft_cost_vals)\n",
    "    ax2.plot(perc_cost_vals)\n",
    "\n",
    "    ax1.set_title('number of misclassificaions')\n",
    "    ax2.set_title('cost function value')\n",
    "    plt.legend( ('softmax', 'perceptron'), loc='upper left')\n",
    "\n",
    "    plt.show()"
   ]
  },
  {
   "cell_type": "code",
   "execution_count": 55,
   "metadata": {},
   "outputs": [
    {
     "data": {
      "image/png": "[encoded data removed]",
      "text/plain": [
       "<matplotlib.figure.Figure at 0x1135bac50>"
      ]
     },
     "metadata": {},
     "output_type": "display_data"
    }
   ],
   "source": [
    "compare_costs(whist_soft,whist_perc)"
   ]
  },
  {
   "cell_type": "markdown",
   "metadata": {},
   "source": [
    "# SPAM DATASET"
   ]
  },
  {
   "cell_type": "code",
   "execution_count": 5,
   "metadata": {
    "collapsed": true
   },
   "outputs": [],
   "source": [
    "# load in dataset\n",
    "data = np.loadtxt('spambase_data.csv',delimiter = ',')\n",
    "x = data[:,:-1]\n",
    "y = data[:,-1]\n",
    "y.shape = (len(y),1)"
   ]
  },
  {
   "cell_type": "code",
   "execution_count": 1,
   "metadata": {},
   "outputs": [
    {
     "ename": "NameError",
     "evalue": "name 'y' is not defined",
     "output_type": "error",
     "traceback": [
      "\u001b[0;31m---------------------------------------------------------------------------\u001b[0m",
      "\u001b[0;31mNameError\u001b[0m                                 Traceback (most recent call last)",
      "\u001b[0;32m<ipython-input-1-9a1b8a52fa82>\u001b[0m in \u001b[0;36m<module>\u001b[0;34m()\u001b[0m\n\u001b[1;32m      1\u001b[0m \u001b[0;31m# parameters for grad descent\u001b[0m\u001b[0;34m\u001b[0m\u001b[0;34m\u001b[0m\u001b[0m\n\u001b[0;32m----> 2\u001b[0;31m \u001b[0malpha\u001b[0m \u001b[0;34m=\u001b[0m \u001b[0;36m10\u001b[0m\u001b[0;34m**\u001b[0m\u001b[0;34m(\u001b[0m\u001b[0;34m-\u001b[0m\u001b[0;36m6\u001b[0m\u001b[0;34m)\u001b[0m\u001b[0;34m/\u001b[0m\u001b[0mlen\u001b[0m\u001b[0;34m(\u001b[0m\u001b[0my\u001b[0m\u001b[0;34m)\u001b[0m\u001b[0;34m\u001b[0m\u001b[0m\n\u001b[0m\u001b[1;32m      3\u001b[0m \u001b[0mw_init\u001b[0m \u001b[0;34m=\u001b[0m \u001b[0;36m0.01\u001b[0m\u001b[0;34m*\u001b[0m\u001b[0mnp\u001b[0m\u001b[0;34m.\u001b[0m\u001b[0mrandom\u001b[0m\u001b[0;34m.\u001b[0m\u001b[0mrandn\u001b[0m\u001b[0;34m(\u001b[0m\u001b[0mnp\u001b[0m\u001b[0;34m.\u001b[0m\u001b[0mshape\u001b[0m\u001b[0;34m(\u001b[0m\u001b[0mx\u001b[0m\u001b[0;34m)\u001b[0m\u001b[0;34m[\u001b[0m\u001b[0;36m1\u001b[0m\u001b[0;34m]\u001b[0m\u001b[0;34m+\u001b[0m\u001b[0;36m1\u001b[0m\u001b[0;34m,\u001b[0m\u001b[0;36m1\u001b[0m\u001b[0;34m)\u001b[0m\u001b[0;34m\u001b[0m\u001b[0m\n\u001b[1;32m      4\u001b[0m \u001b[0mits\u001b[0m \u001b[0;34m=\u001b[0m \u001b[0;36m100\u001b[0m\u001b[0;34m\u001b[0m\u001b[0m\n",
      "\u001b[0;31mNameError\u001b[0m: name 'y' is not defined"
     ]
    }
   ],
   "source": [
    "# parameters for grad descent\n",
    "alpha = 10**(-6)/len(y)\n",
    "w_init = 0.01*np.random.randn(np.shape(x)[1]+1,1)\n",
    "its = 100"
   ]
  },
  {
   "cell_type": "code",
   "execution_count": 2,
   "metadata": {},
   "outputs": [
    {
     "ename": "NameError",
     "evalue": "name 'gradient_descent' is not defined",
     "output_type": "error",
     "traceback": [
      "\u001b[0;31m---------------------------------------------------------------------------\u001b[0m",
      "\u001b[0;31mNameError\u001b[0m                                 Traceback (most recent call last)",
      "\u001b[0;32m<ipython-input-2-f57edfd43d79>\u001b[0m in \u001b[0;36m<module>\u001b[0;34m()\u001b[0m\n\u001b[1;32m      1\u001b[0m \u001b[0;31m# run gradient descent for softmax cost function\u001b[0m\u001b[0;34m\u001b[0m\u001b[0;34m\u001b[0m\u001b[0m\n\u001b[0;32m----> 2\u001b[0;31m \u001b[0mwhist_soft\u001b[0m \u001b[0;34m=\u001b[0m \u001b[0mgradient_descent\u001b[0m\u001b[0;34m(\u001b[0m\u001b[0mg\u001b[0m \u001b[0;34m=\u001b[0m \u001b[0msoftmax\u001b[0m\u001b[0;34m,\u001b[0m\u001b[0malpha\u001b[0m \u001b[0;34m=\u001b[0m \u001b[0malpha\u001b[0m\u001b[0;34m,\u001b[0m\u001b[0mmax_its\u001b[0m \u001b[0;34m=\u001b[0m \u001b[0mits\u001b[0m\u001b[0;34m,\u001b[0m\u001b[0mw\u001b[0m \u001b[0;34m=\u001b[0m \u001b[0mw_init\u001b[0m\u001b[0;34m)\u001b[0m\u001b[0;34m\u001b[0m\u001b[0m\n\u001b[0m",
      "\u001b[0;31mNameError\u001b[0m: name 'gradient_descent' is not defined"
     ]
    }
   ],
   "source": [
    "# run gradient descent for softmax cost function\n",
    "whist_soft = gradient_descent(g = softmax,alpha = alpha,max_its = its,w = w_init)"
   ]
  },
  {
   "cell_type": "code",
   "execution_count": 3,
   "metadata": {},
   "outputs": [
    {
     "ename": "NameError",
     "evalue": "name 'gradient_descent' is not defined",
     "output_type": "error",
     "traceback": [
      "\u001b[0;31m---------------------------------------------------------------------------\u001b[0m",
      "\u001b[0;31mNameError\u001b[0m                                 Traceback (most recent call last)",
      "\u001b[0;32m<ipython-input-3-0703e777015c>\u001b[0m in \u001b[0;36m<module>\u001b[0;34m()\u001b[0m\n\u001b[1;32m      1\u001b[0m \u001b[0;31m# run gradient descent for softmax cost function\u001b[0m\u001b[0;34m\u001b[0m\u001b[0;34m\u001b[0m\u001b[0m\n\u001b[0;32m----> 2\u001b[0;31m \u001b[0mwhist_perc\u001b[0m \u001b[0;34m=\u001b[0m \u001b[0mgradient_descent\u001b[0m\u001b[0;34m(\u001b[0m\u001b[0mg\u001b[0m \u001b[0;34m=\u001b[0m \u001b[0mperceptron\u001b[0m\u001b[0;34m,\u001b[0m\u001b[0malpha\u001b[0m \u001b[0;34m=\u001b[0m \u001b[0malpha\u001b[0m\u001b[0;34m,\u001b[0m\u001b[0mmax_its\u001b[0m \u001b[0;34m=\u001b[0m \u001b[0mits\u001b[0m\u001b[0;34m,\u001b[0m\u001b[0mw\u001b[0m \u001b[0;34m=\u001b[0m \u001b[0mw_init\u001b[0m\u001b[0;34m)\u001b[0m\u001b[0;34m\u001b[0m\u001b[0m\n\u001b[0m",
      "\u001b[0;31mNameError\u001b[0m: name 'gradient_descent' is not defined"
     ]
    }
   ],
   "source": [
    "# run gradient descent for softmax cost function\n",
    "whist_perc = gradient_descent(g = perceptron,alpha = alpha,max_its = its,w = w_init)"
   ]
  },
  {
   "cell_type": "code",
   "execution_count": 4,
   "metadata": {},
   "outputs": [
    {
     "ename": "NameError",
     "evalue": "name 'compare_costs' is not defined",
     "output_type": "error",
     "traceback": [
      "\u001b[0;31m---------------------------------------------------------------------------\u001b[0m",
      "\u001b[0;31mNameError\u001b[0m                                 Traceback (most recent call last)",
      "\u001b[0;32m<ipython-input-4-b02f39047447>\u001b[0m in \u001b[0;36m<module>\u001b[0;34m()\u001b[0m\n\u001b[0;32m----> 1\u001b[0;31m \u001b[0mcompare_costs\u001b[0m\u001b[0;34m(\u001b[0m\u001b[0mwhist_soft\u001b[0m\u001b[0;34m,\u001b[0m\u001b[0mwhist_perc\u001b[0m\u001b[0;34m)\u001b[0m\u001b[0;34m\u001b[0m\u001b[0m\n\u001b[0m",
      "\u001b[0;31mNameError\u001b[0m: name 'compare_costs' is not defined"
     ]
    }
   ],
   "source": [
    "compare_costs(whist_soft,whist_perc)"
   ]
  },
  {
   "cell_type": "code",
   "execution_count": 5,
   "metadata": {},
   "outputs": [
    {
     "ename": "NameError",
     "evalue": "name 'np' is not defined",
     "output_type": "error",
     "traceback": [
      "\u001b[0;31m---------------------------------------------------------------------------\u001b[0m",
      "\u001b[0;31mNameError\u001b[0m                                 Traceback (most recent call last)",
      "\u001b[0;32m<ipython-input-5-4d853d280454>\u001b[0m in \u001b[0;36m<module>\u001b[0;34m()\u001b[0m\n\u001b[0;32m----> 1\u001b[0;31m \u001b[0mnp\u001b[0m\u001b[0;34m.\u001b[0m\u001b[0mshape\u001b[0m\u001b[0;34m(\u001b[0m\u001b[0my\u001b[0m\u001b[0;34m)\u001b[0m\u001b[0;34m\u001b[0m\u001b[0m\n\u001b[0m",
      "\u001b[0;31mNameError\u001b[0m: name 'np' is not defined"
     ]
    }
   ],
   "source": [
    "np.shape(y)"
   ]
  },
  {
   "cell_type": "code",
   "execution_count": 24,
   "metadata": {},
   "outputs": [
    {
     "data": {
      "text/plain": [
       "array([ 1779.])"
      ]
     },
     "execution_count": 24,
     "metadata": {},
     "output_type": "execute_result"
    }
   ],
   "source": [
    "counting_cost(whist_perc[-1])"
   ]
  },
  {
   "cell_type": "code",
   "execution_count": null,
   "metadata": {
    "collapsed": true
   },
   "outputs": [],
   "source": []
  },
  {
   "cell_type": "code",
   "execution_count": null,
   "metadata": {
    "collapsed": true
   },
   "outputs": [],
   "source": [
    "from matplotlib import gridspec  # a helpful plotting function\n",
    "import matplotlib.pyplot as plt \n",
    "\n",
    "# a plotting function for N = 2 classfication datasets\n",
    "def scatter_classif_pts(csvname)\n",
    "    colors = ['cornflowerblue','salmon']\n",
    "    \n",
    "    # initialize figure\n",
    "    fig = plt.figure(figsize = (9,4))\n",
    "    gs = gridspec.GridSpec(1,1) \n",
    "    ax1 = plt.subplot(gs[0],aspect = 'equal');\n",
    "\n",
    "    ax1.set_xlabel(r'$x_1$',fontsize = 15)\n",
    "    ax1.set_ylabel(r'$x_2$',fontsize = 15,rotation = 0,labelpad = 20)\n",
    "\n",
    "    #### plot left panels ####\n",
    "    # plot points in 2d and 3d\n",
    "    ind0 = np.argwhere(self.y == +1)\n",
    "    ax1.scatter(self.x[ind0,0],self.x[ind0,1],s = 55, color = self.colors[0], edgecolor = 'k')\n",
    "    ax2.scatter(self.x[ind0,0],self.x[ind0,1],self.y[ind0],s = 55, color = self.colors[0], edgecolor = 'k')\n",
    "\n",
    "    ind1 = np.argwhere(self.y == -1)\n",
    "    ax1.scatter(self.x[ind1,0],self.x[ind1,1],s = 55, color = self.colors[1], edgecolor = 'k')\n",
    "    ax2.scatter(self.x[ind1,0],self.x[ind1,1],self.y[ind1],s = 55, color = self.colors[1], edgecolor = 'k')\n",
    "       "
   ]
  },
  {
   "cell_type": "code",
   "execution_count": null,
   "metadata": {
    "collapsed": true
   },
   "outputs": [],
   "source": []
  }
 ],
 "metadata": {
  "anaconda-cloud": {},
  "kernelspec": {
   "display_name": "Python 3",
   "language": "python",
   "name": "python3"
  },
  "language_info": {
   "codemirror_mode": {
    "name": "ipython",
    "version": 3
   },
   "file_extension": ".py",
   "mimetype": "text/x-python",
   "name": "python",
   "nbconvert_exporter": "python",
   "pygments_lexer": "ipython3",
   "version": "3.5.3"
  },
  "toc": {
   "colors": {
    "hover_highlight": "#DAA520",
    "navigate_num": "#000000",
    "navigate_text": "#333333",
    "running_highlight": "#FF0000",
    "selected_highlight": "#FFD700",
    "sidebar_border": "#EEEEEE",
    "wrapper_background": "#FFFFFF"
   },
   "moveMenuLeft": true,
   "nav_menu": {
    "height": "30px",
    "width": "252px"
   },
   "navigate_menu": true,
   "number_sections": false,
   "sideBar": true,
   "threshold": 4,
   "toc_cell": false,
   "toc_section_display": "block",
   "toc_window_display": false,
   "widenNotebook": false
  }
 },
 "nbformat": 4,
 "nbformat_minor": 1
}
